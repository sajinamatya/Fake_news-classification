{
 "cells": [
  {
   "cell_type": "markdown",
   "source": [
    "## Required module and library "
   ],
   "metadata": {
    "collapsed": false
   },
   "id": "6ab45689d204c85c"
  },
  {
   "cell_type": "code",
   "execution_count": null,
   "outputs": [],
   "source": [
    "import pandas as pd\n",
    "import numpy as np\n",
    "from nltk import word_tokenize,sent_tokenize,RegexpTokenizer\n",
    "from nltk.corpus import stopwords\n",
    "from wordcloud import WordCloud, STOPWORDS\n",
    "from sklearn.feature_extraction.text import CountVectorizer\n",
    "from sklearn.model_selection import train_test_split\n",
    "from sklearn.feature_extraction.text import TfidfVectorizer\n",
    "from sklearn.naive_bayes import MultinomialNB\n",
    "from sklearn import metrics\n",
    "import matplotlib.pyplot as plt\n",
    "import seaborn as sns\n",
    "from collections import Counter\n",
    "from nltk.util import ngrams"
   ],
   "metadata": {
    "collapsed": false,
    "ExecuteTime": {
     "start_time": "2024-03-26T00:16:46.710416900Z"
    }
   },
   "id": "initial_id"
  },
  {
   "cell_type": "markdown",
   "source": [
    "## Loading the dataset "
   ],
   "metadata": {
    "collapsed": false
   },
   "id": "a7ac7a503a3070ae"
  },
  {
   "cell_type": "code",
   "execution_count": null,
   "outputs": [],
   "source": [
    "df = pd.read_csv(\"fake_or_real_news.csv\")\n"
   ],
   "metadata": {
    "collapsed": false,
    "ExecuteTime": {
     "start_time": "2024-03-26T00:16:46.713425100Z"
    }
   },
   "id": "97c35debb13147ba"
  },
  {
   "cell_type": "markdown",
   "source": [
    "## Description of each column "
   ],
   "metadata": {
    "collapsed": false
   },
   "id": "4a0b00278da6eb8e"
  },
  {
   "cell_type": "code",
   "execution_count": null,
   "outputs": [],
   "source": [
    "df.info()"
   ],
   "metadata": {
    "collapsed": false,
    "ExecuteTime": {
     "start_time": "2024-03-26T00:16:46.716950300Z"
    }
   },
   "id": "566d8d601d95ad5b"
  },
  {
   "cell_type": "code",
   "execution_count": null,
   "outputs": [],
   "source": [
    "df['label'].value_counts()"
   ],
   "metadata": {
    "collapsed": false,
    "ExecuteTime": {
     "start_time": "2024-03-26T00:16:46.719456200Z"
    }
   },
   "id": "b4e67040d195e6b0"
  },
  {
   "cell_type": "markdown",
   "source": [
    "## Top 5 rows with longest title  "
   ],
   "metadata": {
    "collapsed": false
   },
   "id": "3250b52e1b93ca53"
  },
  {
   "cell_type": "code",
   "execution_count": null,
   "outputs": [],
   "source": [
    "descending = df.sort_values(by='text', key=lambda x: x.str.len(), ascending=False)\n",
    "descending['length_of_title']= descending['title'].str.len()\n",
    "print(descending[:5])"
   ],
   "metadata": {
    "collapsed": false,
    "ExecuteTime": {
     "start_time": "2024-03-26T00:16:46.719456200Z"
    }
   },
   "id": "71cc0bdfa8a6cb6"
  },
  {
   "cell_type": "markdown",
   "source": [
    "## Visualizing No. of real and fake news "
   ],
   "metadata": {
    "collapsed": false
   },
   "id": "e9761a1cce09e6b4"
  },
  {
   "cell_type": "code",
   "execution_count": null,
   "outputs": [],
   "source": [
    "sns.countplot(x ='label',data = df)\n",
    "plt.xlabel(\"fake or real \")"
   ],
   "metadata": {
    "collapsed": false,
    "ExecuteTime": {
     "start_time": "2024-03-26T00:16:46.726988800Z"
    }
   },
   "id": "b91984a095f6e0b8"
  },
  {
   "cell_type": "markdown",
   "source": [
    "## Top 10 most frequent words in the data set "
   ],
   "metadata": {
    "collapsed": false
   },
   "id": "c4c92af77dc7ec81"
  },
  {
   "cell_type": "code",
   "execution_count": null,
   "outputs": [],
   "source": [
    "\n",
    "text = [sent_tokenize(text) for text in df['text']]\n",
    "tokenizer = RegexpTokenizer(r'\\w+')\n",
    "text_list=[[tokenizer.tokenize(sentence) for sentence in sentences] for sentences in text]\n",
    "corpus  = [word for sublist in text_list for sentence in sublist for word in sentence]\n",
    "def count_graph(corpus):\n",
    "    counter = Counter(corpus)\n",
    "    word,word_count  =  [],[]\n",
    "    most= counter.most_common()\n",
    "    for i,j in  most[:10]:\n",
    "        word.append(i)\n",
    "        word_count.append(j)\n",
    "\n",
    "    sns.barplot(x=word,y =word_count)\n",
    "    plt.title(\"top 10 most common word  in the dataset\")\n",
    "    plt.xlabel(\"words\")\n",
    "    plt.ylabel(\"count\")\n",
    "count_graph(corpus)"
   ],
   "metadata": {
    "collapsed": false,
    "ExecuteTime": {
     "start_time": "2024-03-26T00:16:46.726988800Z"
    }
   },
   "id": "96ae7c7d1ecea4e5"
  },
  {
   "cell_type": "markdown",
   "source": [
    "## Top 10 most frequent words in the data set after removing stop word"
   ],
   "metadata": {
    "collapsed": false
   },
   "id": "dc75aaa5f3a718b8"
  },
  {
   "cell_type": "code",
   "execution_count": null,
   "outputs": [],
   "source": [
    "stop_words = stopwords.words('english')\n",
    "text_list = [[word for word in tokenizer.tokenize(sentence) if word.lower() not in stop_words] for sentences in text for sentence in sentences]\n",
    "\n",
    "# Flatten the list of lists to get a single list of words\n",
    "corpus1 = [word for sentence in text_list for word in sentence]\n",
    "count_graph(corpus1)"
   ],
   "metadata": {
    "collapsed": false,
    "ExecuteTime": {
     "start_time": "2024-03-26T00:16:46.726988800Z"
    }
   },
   "id": "d41a752469305d9"
  },
  {
   "cell_type": "code",
   "execution_count": null,
   "outputs": [],
   "source": [
    "\n",
    "string_text = ' '.join(corpus)\n",
    "stopwords = set(STOPWORDS)\n",
    "# Create and generate a word cloud image:\n",
    "wordcloud = WordCloud(stopwords = stopwords).generate(string_text)\n",
    "\n",
    "# Display the generated image:\n",
    "plt.imshow(wordcloud, interpolation='bilinear' )\n",
    "plt.axis(\"off\")\n",
    "plt.show()"
   ],
   "metadata": {
    "collapsed": false,
    "ExecuteTime": {
     "start_time": "2024-03-26T00:16:46.726988800Z"
    }
   },
   "id": "74c1c29bd742406d"
  },
  {
   "cell_type": "markdown",
   "source": [
    "## CountVectorizer"
   ],
   "metadata": {
    "collapsed": false
   },
   "id": "f8aa72c1f25e4cc3"
  },
  {
   "cell_type": "markdown",
   "source": [
    "### bigram "
   ],
   "metadata": {
    "collapsed": false
   },
   "id": "57133f3efaa28326"
  },
  {
   "cell_type": "code",
   "execution_count": null,
   "outputs": [],
   "source": [
    "def get_ngram(corpus, n=None):\n",
    "    vec = CountVectorizer(ngram_range=(n, n)).fit(corpus)\n",
    "    bag_of_words = vec.transform(corpus)\n",
    "    sum_words = bag_of_words.sum(axis=0)\n",
    "    words_freq = [(word, sum_words[0, idx])\n",
    "                  for word, idx in vec.vocabulary_.items()]\n",
    "    words_freq =sorted(words_freq, key = lambda x: x[1], reverse=True)\n",
    "    return words_freq[:10]"
   ],
   "metadata": {
    "collapsed": false,
    "ExecuteTime": {
     "start_time": "2024-03-26T00:16:46.736587600Z"
    }
   },
   "id": "5c32ec042d14caab"
  },
  {
   "cell_type": "code",
   "execution_count": null,
   "outputs": [],
   "source": [
    "bigrams = get_ngram(df['text'],2)[:10]\n",
    "x,y=map(list,zip(*bigrams))\n",
    "sns.barplot(x=y,y=x)"
   ],
   "metadata": {
    "collapsed": false,
    "ExecuteTime": {
     "start_time": "2024-03-26T00:16:46.736587600Z"
    }
   },
   "id": "d1297a333991ea94"
  },
  {
   "cell_type": "markdown",
   "source": [
    "## Trigram"
   ],
   "metadata": {
    "collapsed": false
   },
   "id": "a0cece7b95ce134a"
  },
  {
   "cell_type": "code",
   "execution_count": null,
   "outputs": [],
   "source": [
    "trigrams = get_ngram(df['text'],3)[:10]\n",
    "x,y=map(list,zip(*trigrams))\n",
    "sns.barplot(x=y,y=x)"
   ],
   "metadata": {
    "collapsed": false,
    "ExecuteTime": {
     "start_time": "2024-03-26T00:16:46.736587600Z"
    }
   },
   "id": "c141dee55ca1ffda"
  },
  {
   "cell_type": "code",
   "execution_count": null,
   "outputs": [],
   "source": [
    "\n",
    "\n"
   ],
   "metadata": {
    "collapsed": false,
    "ExecuteTime": {
     "start_time": "2024-03-26T00:16:46.736587600Z"
    }
   },
   "id": "600f5e763f4a54fb"
  },
  {
   "cell_type": "markdown",
   "source": [
    "### Creating training and test sets"
   ],
   "metadata": {
    "collapsed": false
   },
   "id": "b845f5f3d32ef7a7"
  },
  {
   "cell_type": "code",
   "execution_count": null,
   "outputs": [],
   "source": [
    "y = df.label\n",
    "X_train, X_test, y_train, y_test = train_test_split(df['text'], y, test_size=0.33, random_state=53)"
   ],
   "metadata": {
    "collapsed": false,
    "ExecuteTime": {
     "start_time": "2024-03-26T00:16:46.736587600Z"
    }
   },
   "id": "36d26d8e74f91d"
  },
  {
   "cell_type": "markdown",
   "source": [
    "### Initializing a CountVectorizer object"
   ],
   "metadata": {
    "collapsed": false
   },
   "id": "1f080bc8262f8eff"
  },
  {
   "cell_type": "code",
   "execution_count": null,
   "outputs": [],
   "source": [
    "count_vectorizer = CountVectorizer(stop_words='english')"
   ],
   "metadata": {
    "collapsed": false,
    "ExecuteTime": {
     "start_time": "2024-03-26T00:16:46.736587600Z"
    }
   },
   "id": "7b124550bdb47773"
  },
  {
   "cell_type": "markdown",
   "source": [
    "### Transforming the training data using only the 'text' column values: count_train "
   ],
   "metadata": {
    "collapsed": false
   },
   "id": "360ed65d6b17a952"
  },
  {
   "cell_type": "code",
   "execution_count": null,
   "outputs": [],
   "source": [
    "count_train = count_vectorizer.fit_transform(X_train)\n",
    "count_test = count_vectorizer.transform(X_test)\n"
   ],
   "metadata": {
    "collapsed": false,
    "ExecuteTime": {
     "start_time": "2024-03-26T00:16:46.736587600Z"
    }
   },
   "id": "54d9db3020b6fd17"
  },
  {
   "cell_type": "markdown",
   "source": [
    "###  Printing the first 10 features "
   ],
   "metadata": {
    "collapsed": false
   },
   "id": "7cb3101da1e3cb44"
  },
  {
   "cell_type": "code",
   "execution_count": null,
   "outputs": [],
   "source": [
    "print(count_vectorizer.get_feature_names_out()[:10])"
   ],
   "metadata": {
    "collapsed": false,
    "ExecuteTime": {
     "start_time": "2024-03-26T00:16:46.736587600Z"
    }
   },
   "id": "24afbd8222282b69"
  },
  {
   "cell_type": "markdown",
   "source": [
    "## TfidfVectorizer"
   ],
   "metadata": {
    "collapsed": false
   },
   "id": "dc3f71c064fae550"
  },
  {
   "cell_type": "markdown",
   "source": [
    "### Initializing a TfidfVectorizer object: tfidf_vectorizer"
   ],
   "metadata": {
    "collapsed": false
   },
   "id": "cc936e8d2a7bcfea"
  },
  {
   "cell_type": "code",
   "execution_count": null,
   "outputs": [],
   "source": [
    "\n",
    "tfidf_vectorizer = TfidfVectorizer(stop_words='english', max_df=0.7)\n"
   ],
   "metadata": {
    "collapsed": false,
    "ExecuteTime": {
     "end_time": "2024-03-26T00:16:46.786706100Z",
     "start_time": "2024-03-26T00:16:46.736587600Z"
    }
   },
   "id": "e9c648a1e975e1d1"
  },
  {
   "cell_type": "markdown",
   "source": [
    "### Transforming the training data: tfidf_train "
   ],
   "metadata": {
    "collapsed": false
   },
   "id": "5965ff32ff109d0"
  },
  {
   "cell_type": "code",
   "execution_count": null,
   "outputs": [],
   "source": [
    "\n",
    "tfidf_train = tfidf_vectorizer.fit_transform(X_train)\n",
    "print(tfidf_train)"
   ],
   "metadata": {
    "collapsed": false,
    "ExecuteTime": {
     "start_time": "2024-03-26T00:16:46.746703Z"
    }
   },
   "id": "acce83bf481766e3"
  },
  {
   "cell_type": "markdown",
   "source": [
    "### Transform the test data: tfidf_test "
   ],
   "metadata": {
    "collapsed": false
   },
   "id": "dbf9631cfb9eb942"
  },
  {
   "cell_type": "code",
   "execution_count": null,
   "outputs": [],
   "source": [
    "\n",
    "tfidf_test = tfidf_vectorizer.transform(X_test)"
   ],
   "metadata": {
    "collapsed": false,
    "ExecuteTime": {
     "start_time": "2024-03-26T00:16:46.746703Z"
    }
   },
   "id": "88329c581550f671"
  },
  {
   "cell_type": "markdown",
   "source": [
    "### Printing the first 10 features"
   ],
   "metadata": {
    "collapsed": false
   },
   "id": "df5f7c4609b9eb2d"
  },
  {
   "cell_type": "code",
   "execution_count": null,
   "outputs": [],
   "source": [
    "\n",
    "print(tfidf_vectorizer.get_feature_names_out()[:10])"
   ],
   "metadata": {
    "collapsed": false,
    "ExecuteTime": {
     "start_time": "2024-03-26T00:16:46.746703Z"
    }
   },
   "id": "7bd44037654fd701"
  },
  {
   "cell_type": "markdown",
   "source": [
    "### Printing the first 5 vectors of the tfidf training data"
   ],
   "metadata": {
    "collapsed": false
   },
   "id": "277aa52c5fbb6e55"
  },
  {
   "cell_type": "code",
   "execution_count": null,
   "outputs": [],
   "source": [
    "\n",
    "print(tfidf_train.A[:5])"
   ],
   "metadata": {
    "collapsed": false,
    "ExecuteTime": {
     "start_time": "2024-03-26T00:16:46.751735900Z"
    }
   },
   "id": "cc4b51431203c2bb"
  },
  {
   "cell_type": "markdown",
   "source": [
    "### Creating the CountVectorizer DataFrame"
   ],
   "metadata": {
    "collapsed": false
   },
   "id": "325a49d2db965c27"
  },
  {
   "cell_type": "code",
   "execution_count": null,
   "outputs": [],
   "source": [
    "\n",
    "count_df = pd.DataFrame(count_train.A, columns=count_vectorizer.get_feature_names_out())"
   ],
   "metadata": {
    "collapsed": false,
    "ExecuteTime": {
     "start_time": "2024-03-26T00:16:46.751735900Z"
    }
   },
   "id": "756a134af6ccae28"
  },
  {
   "cell_type": "markdown",
   "source": [
    "### Creating the TfidfVectorizer DataFrame"
   ],
   "metadata": {
    "collapsed": false
   },
   "id": "6de0fd41d97d991"
  },
  {
   "cell_type": "code",
   "execution_count": null,
   "outputs": [],
   "source": [
    "tfidf_df = pd.DataFrame(tfidf_train.A, columns=tfidf_vectorizer.get_feature_names_out())"
   ],
   "metadata": {
    "collapsed": false,
    "ExecuteTime": {
     "start_time": "2024-03-26T00:16:46.751735900Z"
    }
   },
   "id": "40d6df3597a96ed5"
  },
  {
   "cell_type": "code",
   "execution_count": null,
   "outputs": [],
   "source": [
    "# Print the head of count_df\n",
    "print(count_df.head())\n",
    "\n",
    "# Print the head of tfidf_df\n",
    "print(tfidf_df.head())\n",
    "\n",
    "# Calculate the difference in columns: difference\n",
    "difference = set(count_df.columns) - set(tfidf_df.columns)\n",
    "print(difference)\n",
    "\n",
    "# Check whether the DataFrames are equal\n",
    "print(count_df.equals(tfidf_df))\n"
   ],
   "metadata": {
    "collapsed": false,
    "ExecuteTime": {
     "start_time": "2024-03-26T00:16:46.751735900Z"
    }
   },
   "id": "aa066d555c99f983"
  },
  {
   "cell_type": "markdown",
   "source": [
    "## Instantiate a Multinomial Naive Bayes classifier"
   ],
   "metadata": {
    "collapsed": false
   },
   "id": "5e4a1035894c940b"
  },
  {
   "cell_type": "code",
   "execution_count": null,
   "outputs": [],
   "source": [
    "nb_classifier = MultinomialNB()\n",
    "# Fit the classifier to the training data\n",
    "nb_classifier.fit(count_train, y_train)\n",
    "# Create the predicted tags: pred\n",
    "pred = nb_classifier.predict(count_test)\n",
    "# Calculate the accuracy score: score\n",
    "score = metrics.accuracy_score(y_test, pred)\n",
    "print(score)\n"
   ],
   "metadata": {
    "collapsed": false,
    "ExecuteTime": {
     "start_time": "2024-03-26T00:16:46.756740500Z"
    }
   },
   "id": "18eb9b196fece6f5"
  },
  {
   "cell_type": "markdown",
   "source": [
    "## Confusion matrix for count vectorizer "
   ],
   "metadata": {
    "collapsed": false
   },
   "id": "ddb485f4ebb7c1cd"
  },
  {
   "cell_type": "code",
   "execution_count": null,
   "outputs": [],
   "source": [
    "cm_count_nav = metrics.confusion_matrix(y_test, pred, labels=['FAKE', 'REAL'])\n",
    "print(cm_count_nav)\n",
    "sns.heatmap(cm_count_nav, annot=True,\n",
    "            fmt='', cmap='rocket')\n",
    "\n",
    "plt.xlabel('Predicted ')\n",
    "plt.ylabel('Real')"
   ],
   "metadata": {
    "collapsed": false,
    "ExecuteTime": {
     "start_time": "2024-03-26T00:16:46.756740500Z"
    }
   },
   "id": "836036c25594cddf"
  },
  {
   "cell_type": "markdown",
   "source": [
    "## Training and testing model with TfidfVectorizer"
   ],
   "metadata": {
    "collapsed": false
   },
   "id": "9ed0441e9b57e20a"
  },
  {
   "cell_type": "code",
   "execution_count": null,
   "outputs": [],
   "source": [
    "# Fit the classifier to the training data\n",
    "nb_classifier.fit(tfidf_train, y_train)\n",
    "\n",
    "# Create the predicted tags: pred\n",
    "pred = nb_classifier.predict(tfidf_test)\n",
    "\n",
    "# Calculate the accuracy score: score\n",
    "score = metrics.accuracy_score(y_test, pred)\n",
    "print(score)\n",
    "# Calculate the confusion matrix: cm\n",
    "cm = metrics.confusion_matrix(y_test, pred, labels=['FAKE', 'REAL'])\n",
    "print(cm)"
   ],
   "metadata": {
    "collapsed": false,
    "ExecuteTime": {
     "start_time": "2024-03-26T00:16:46.756740500Z"
    }
   },
   "id": "da321926615bd5cf"
  },
  {
   "cell_type": "markdown",
   "source": [
    "## Confusion matrix for tfid"
   ],
   "metadata": {
    "collapsed": false
   },
   "id": "9500e7ba86bd9a6"
  },
  {
   "cell_type": "code",
   "execution_count": null,
   "outputs": [],
   "source": [
    "sns.heatmap(cm, annot=True,\n",
    "            fmt='', cmap='rocket')\n",
    "\n",
    "plt.xlabel('Predicted ')\n",
    "plt.ylabel('Real')"
   ],
   "metadata": {
    "collapsed": false,
    "ExecuteTime": {
     "start_time": "2024-03-26T00:16:46.756740500Z"
    }
   },
   "id": "c35c7d3d5341386d"
  },
  {
   "cell_type": "markdown",
   "source": [
    "## Checking the improvement to be made in the model "
   ],
   "metadata": {
    "collapsed": false
   },
   "id": "fc538fa0ccd88063"
  },
  {
   "cell_type": "code",
   "execution_count": null,
   "outputs": [],
   "source": [
    "# Create the list of alphas: alphas\n",
    "alphas = np.arange(0, 1, .1)\n",
    "\n",
    "# Define train_and_predict()\n",
    "def train_and_predict(alpha):\n",
    "    # Instantiate the classifier: nb_classifier\n",
    "    nb_classifier = MultinomialNB(alpha=alpha)\n",
    "    # Fit to the training data\n",
    "    nb_classifier.fit(tfidf_train, y_train)\n",
    "    # Predict the labels: pred\n",
    "    pred = nb_classifier.predict(tfidf_test)\n",
    "    # Compute accuracy: score\n",
    "    score = metrics.accuracy_score(y_test, pred)\n",
    "    return score\n",
    "\n",
    "# Iterate over the alphas and print the corresponding score\n",
    "for alpha in alphas:\n",
    "    print('Alpha: ', alpha)\n",
    "    print('Score: ', train_and_predict(alpha))\n",
    "    print()\n",
    "    "
   ],
   "metadata": {
    "collapsed": false,
    "ExecuteTime": {
     "start_time": "2024-03-26T00:16:46.756740500Z"
    }
   },
   "id": "df2e3bbc782ea7d6"
  },
  {
   "cell_type": "markdown",
   "source": [
    "## Model inspection "
   ],
   "metadata": {
    "collapsed": false
   },
   "id": "6cce4ecfd53f5968"
  },
  {
   "cell_type": "code",
   "execution_count": null,
   "outputs": [],
   "source": [
    "# Get the class labels: class_labels\n",
    "class_labels = nb_classifier.classes_\n",
    "\n",
    "# Extract the features: feature_names\n",
    "feature_names = tfidf_vectorizer.get_feature_names_out()\n",
    "\n",
    "# Zip the feature names together with the coefficient array and sort by weights: feat_with_weights\n",
    "feat_with_weights = sorted(zip(nb_classifier.feature_log_prob_[0], feature_names))\n",
    "\n",
    "# Print the first class label and the top 20 feat_with_weights entries\n",
    "print(class_labels[0], feat_with_weights[:40])\n",
    "print(\"\")\n",
    "# Print the second class label and the bottom 20 feat_with_weights entries\n",
    "print(class_labels[1], feat_with_weights[-40:])\n",
    "\n"
   ],
   "metadata": {
    "collapsed": false,
    "ExecuteTime": {
     "start_time": "2024-03-26T00:16:46.756740500Z"
    }
   },
   "id": "504a10354a1b7003"
  },
  {
   "cell_type": "code",
   "execution_count": null,
   "outputs": [],
   "source": [],
   "metadata": {
    "collapsed": false,
    "ExecuteTime": {
     "start_time": "2024-03-26T00:16:46.756740500Z"
    }
   },
   "id": "f19e2dbbc3aa97e7"
  }
 ],
 "metadata": {
  "kernelspec": {
   "display_name": "Python 3",
   "language": "python",
   "name": "python3"
  },
  "language_info": {
   "codemirror_mode": {
    "name": "ipython",
    "version": 2
   },
   "file_extension": ".py",
   "mimetype": "text/x-python",
   "name": "python",
   "nbconvert_exporter": "python",
   "pygments_lexer": "ipython2",
   "version": "2.7.6"
  }
 },
 "nbformat": 4,
 "nbformat_minor": 5
}
