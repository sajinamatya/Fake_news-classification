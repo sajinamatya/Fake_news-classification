{
 "cells": [
  {
   "cell_type": "markdown",
   "source": [
    "## Required module and library "
   ],
   "metadata": {
    "collapsed": false
   },
   "id": "6ab45689d204c85c"
  },
  {
   "cell_type": "code",
   "execution_count": 3,
   "outputs": [],
   "source": [
    "import pandas as pd\n",
    "import numpy as np\n",
    "from nltk import word_tokenize,sent_tokenize\n",
    "from nltk.corpus import stopwords\n",
    "from sklearn.feature_extraction.text import CountVectorizer\n",
    "from sklearn.model_selection import train_test_split\n",
    "from sklearn.feature_extraction.text import TfidfVectorizer\n",
    "from sklearn.naive_bayes import MultinomialNB\n",
    "from sklearn import metrics\n",
    "import matplotlib.pyplot as plt\n",
    "import seaborn as sns\n",
    "from collections import Counter"
   ],
   "metadata": {
    "collapsed": false,
    "ExecuteTime": {
     "end_time": "2024-03-23T10:26:03.762197100Z",
     "start_time": "2024-03-23T10:26:02.624974100Z"
    }
   },
   "id": "initial_id"
  },
  {
   "cell_type": "markdown",
   "source": [
    "## Loading the dataset "
   ],
   "metadata": {
    "collapsed": false
   },
   "id": "a7ac7a503a3070ae"
  },
  {
   "cell_type": "code",
   "execution_count": 4,
   "outputs": [],
   "source": [
    "df = pd.read_csv(\"fake_or_real_news.csv\")\n"
   ],
   "metadata": {
    "collapsed": false,
    "ExecuteTime": {
     "end_time": "2024-03-23T10:26:04.114677900Z",
     "start_time": "2024-03-23T10:26:03.765196800Z"
    }
   },
   "id": "97c35debb13147ba"
  },
  {
   "cell_type": "markdown",
   "source": [
    "## Description of each column "
   ],
   "metadata": {
    "collapsed": false
   },
   "id": "4a0b00278da6eb8e"
  },
  {
   "cell_type": "code",
   "execution_count": 5,
   "outputs": [
    {
     "name": "stdout",
     "output_type": "stream",
     "text": [
      "<class 'pandas.core.frame.DataFrame'>\n",
      "RangeIndex: 6335 entries, 0 to 6334\n",
      "Data columns (total 4 columns):\n",
      " #   Column      Non-Null Count  Dtype \n",
      "---  ------      --------------  ----- \n",
      " 0   Unnamed: 0  6335 non-null   int64 \n",
      " 1   title       6335 non-null   object\n",
      " 2   text        6335 non-null   object\n",
      " 3   label       6335 non-null   object\n",
      "dtypes: int64(1), object(3)\n",
      "memory usage: 198.1+ KB\n"
     ]
    }
   ],
   "source": [
    "df.info()"
   ],
   "metadata": {
    "collapsed": false,
    "ExecuteTime": {
     "end_time": "2024-03-23T10:26:04.132954800Z",
     "start_time": "2024-03-23T10:26:04.115680Z"
    }
   },
   "id": "566d8d601d95ad5b"
  },
  {
   "cell_type": "code",
   "execution_count": 6,
   "outputs": [
    {
     "data": {
      "text/plain": "label\nREAL    3171\nFAKE    3164\nName: count, dtype: int64"
     },
     "execution_count": 6,
     "metadata": {},
     "output_type": "execute_result"
    }
   ],
   "source": [
    "df['label'].value_counts()"
   ],
   "metadata": {
    "collapsed": false,
    "ExecuteTime": {
     "end_time": "2024-03-23T10:26:04.186159Z",
     "start_time": "2024-03-23T10:26:04.135957600Z"
    }
   },
   "id": "b4e67040d195e6b0"
  },
  {
   "cell_type": "markdown",
   "source": [
    "## Top 5 rows with longest title  "
   ],
   "metadata": {
    "collapsed": false
   },
   "id": "3250b52e1b93ca53"
  },
  {
   "cell_type": "code",
   "execution_count": 21,
   "outputs": [
    {
     "name": "stdout",
     "output_type": "stream",
     "text": [
      "      Unnamed: 0                                              title  \\\n",
      "4733        7910  Re: Why Are So Many People Choosing To Leave T...   \n",
      "3436        5765  Re: It Is Now Mathematically Impossible To Pay...   \n",
      "1359        5604  Benny Morris’s Untenable Denial of the Ethnic ...   \n",
      "536         9618   President Putin Asks US To Stop Provoking Russia   \n",
      "3685        8441  Re: America Has Become A Lawless Nation – Hill...   \n",
      "\n",
      "                                                   text label  length_of_title  \n",
      "4733  Why Are So Many People Choosing To Leave The U...  FAKE               75  \n",
      "3436  It Is Now Mathematically Impossible To Pay Off...  FAKE               73  \n",
      "1359  References The Debate \\r\\nIt started when Dani...  FAKE               68  \n",
      "536   Here is President Putin’s speech at Valdai Put...  FAKE               48  \n",
      "3685  America Has Become A Lawless Nation – Hillary ...  FAKE               86  \n"
     ]
    }
   ],
   "source": [
    "descending = df.sort_values(by='text', key=lambda x: x.str.len(), ascending=False)\n",
    "descending['length_of_title']= descending['title'].str.len()\n",
    "print(descending[:5])"
   ],
   "metadata": {
    "collapsed": false,
    "ExecuteTime": {
     "end_time": "2024-03-23T10:35:59.003811100Z",
     "start_time": "2024-03-23T10:35:58.979799100Z"
    }
   },
   "id": "71cc0bdfa8a6cb6"
  },
  {
   "cell_type": "markdown",
   "source": [
    "## Visualizing No. of real and fake news "
   ],
   "metadata": {
    "collapsed": false
   },
   "id": "e9761a1cce09e6b4"
  },
  {
   "cell_type": "code",
   "execution_count": null,
   "outputs": [],
   "source": [
    "sns.countplot(x ='label',data = df)\n",
    "plt.xlabel(\"fake or real \")"
   ],
   "metadata": {
    "collapsed": false,
    "ExecuteTime": {
     "end_time": "2024-03-23T10:26:04.336165800Z",
     "start_time": "2024-03-23T10:26:04.326022Z"
    }
   },
   "id": "b91984a095f6e0b8"
  },
  {
   "cell_type": "code",
   "execution_count": null,
   "outputs": [],
   "source": [
    "y = df.label"
   ],
   "metadata": {
    "collapsed": false,
    "ExecuteTime": {
     "start_time": "2024-03-23T10:26:04.328027500Z"
    }
   },
   "id": "6e783ce5129c80d5"
  },
  {
   "cell_type": "markdown",
   "source": [
    "## Top 10 most frequent words in the data set "
   ],
   "metadata": {
    "collapsed": false
   },
   "id": "c4c92af77dc7ec81"
  },
  {
   "cell_type": "code",
   "execution_count": null,
   "outputs": [],
   "source": [
    "\n",
    "text= df['text'].str.split()\n",
    "text = text.values.tolist()\n",
    "corpus  = [word for i in text for word in i]\n",
    "counter = Counter(corpus)\n",
    "word,word_count  =  [],[]\n",
    "most= counter.most_common()\n",
    "for i,j in  most[:10]:\n",
    "    word.append(i)\n",
    "    word_count.append(j)\n",
    "\n",
    "sns.barplot(x=word,y =word_count)\n",
    "plt.title(\"top 10 most common word  in the dataset\")\n",
    "plt.xlabel(\"words\")\n",
    "plt.ylabel(\"count\")\n"
   ],
   "metadata": {
    "collapsed": false,
    "ExecuteTime": {
     "start_time": "2024-03-23T10:26:04.329025600Z"
    }
   },
   "id": "96ae7c7d1ecea4e5"
  },
  {
   "cell_type": "markdown",
   "source": [
    "## CountVectorizer"
   ],
   "metadata": {
    "collapsed": false
   },
   "id": "f8aa72c1f25e4cc3"
  },
  {
   "cell_type": "markdown",
   "source": [
    "### Creating training and test sets"
   ],
   "metadata": {
    "collapsed": false
   },
   "id": "b845f5f3d32ef7a7"
  },
  {
   "cell_type": "code",
   "execution_count": null,
   "outputs": [],
   "source": [
    "X_train, X_test, y_train, y_test = train_test_split(df['text'], y, test_size=0.33, random_state=53)"
   ],
   "metadata": {
    "collapsed": false,
    "ExecuteTime": {
     "start_time": "2024-03-23T10:26:04.331166800Z"
    }
   },
   "id": "36d26d8e74f91d"
  },
  {
   "cell_type": "markdown",
   "source": [
    "### Initializing a CountVectorizer object: count_vectorizer"
   ],
   "metadata": {
    "collapsed": false
   },
   "id": "1f080bc8262f8eff"
  },
  {
   "cell_type": "code",
   "execution_count": null,
   "outputs": [],
   "source": [
    "count_vectorizer = CountVectorizer(stop_words='english')"
   ],
   "metadata": {
    "collapsed": false,
    "ExecuteTime": {
     "start_time": "2024-03-23T10:26:04.333167300Z"
    }
   },
   "id": "7b124550bdb47773"
  },
  {
   "cell_type": "markdown",
   "source": [
    "### Transforming the training data using only the 'text' column values: count_train "
   ],
   "metadata": {
    "collapsed": false
   },
   "id": "360ed65d6b17a952"
  },
  {
   "cell_type": "code",
   "execution_count": null,
   "outputs": [],
   "source": [
    "count_train = count_vectorizer.fit_transform(X_train)\n",
    "count_test = count_vectorizer.transform(X_test)\n"
   ],
   "metadata": {
    "collapsed": false,
    "ExecuteTime": {
     "start_time": "2024-03-23T10:26:04.335166200Z"
    }
   },
   "id": "54d9db3020b6fd17"
  },
  {
   "cell_type": "markdown",
   "source": [
    "###  Printing the first 10 features "
   ],
   "metadata": {
    "collapsed": false
   },
   "id": "7cb3101da1e3cb44"
  },
  {
   "cell_type": "code",
   "execution_count": null,
   "outputs": [],
   "source": [
    "print(count_vectorizer.get_feature_names_out()[:10])"
   ],
   "metadata": {
    "collapsed": false,
    "ExecuteTime": {
     "end_time": "2024-03-23T10:26:04.337169100Z",
     "start_time": "2024-03-23T10:26:04.336165800Z"
    }
   },
   "id": "24afbd8222282b69"
  },
  {
   "cell_type": "markdown",
   "source": [
    "## TfidfVectorizer"
   ],
   "metadata": {
    "collapsed": false
   },
   "id": "dc3f71c064fae550"
  },
  {
   "cell_type": "markdown",
   "source": [
    "### Initializing a TfidfVectorizer object: tfidf_vectorizer"
   ],
   "metadata": {
    "collapsed": false
   },
   "id": "cc936e8d2a7bcfea"
  },
  {
   "cell_type": "code",
   "execution_count": null,
   "outputs": [],
   "source": [
    "\n",
    "tfidf_vectorizer = TfidfVectorizer(stop_words='english', max_df=0.7)\n"
   ],
   "metadata": {
    "collapsed": false,
    "ExecuteTime": {
     "start_time": "2024-03-23T10:26:04.338169400Z"
    }
   },
   "id": "e9c648a1e975e1d1"
  },
  {
   "cell_type": "markdown",
   "source": [
    "### Transforming the training data: tfidf_train "
   ],
   "metadata": {
    "collapsed": false
   },
   "id": "5965ff32ff109d0"
  },
  {
   "cell_type": "code",
   "execution_count": null,
   "outputs": [],
   "source": [
    "\n",
    "tfidf_train = tfidf_vectorizer.fit_transform(X_train)\n",
    "print(tfidf_train)"
   ],
   "metadata": {
    "collapsed": false,
    "ExecuteTime": {
     "start_time": "2024-03-23T10:26:04.340298900Z"
    }
   },
   "id": "acce83bf481766e3"
  },
  {
   "cell_type": "markdown",
   "source": [
    "### Transform the test data: tfidf_test "
   ],
   "metadata": {
    "collapsed": false
   },
   "id": "dbf9631cfb9eb942"
  },
  {
   "cell_type": "code",
   "execution_count": null,
   "outputs": [],
   "source": [
    "\n",
    "tfidf_test = tfidf_vectorizer.transform(X_test)"
   ],
   "metadata": {
    "collapsed": false,
    "ExecuteTime": {
     "start_time": "2024-03-23T10:26:04.342299400Z"
    }
   },
   "id": "88329c581550f671"
  },
  {
   "cell_type": "markdown",
   "source": [
    "### Printing the first 10 features"
   ],
   "metadata": {
    "collapsed": false
   },
   "id": "df5f7c4609b9eb2d"
  },
  {
   "cell_type": "code",
   "execution_count": null,
   "outputs": [],
   "source": [
    "\n",
    "print(tfidf_vectorizer.get_feature_names_out()[:10])"
   ],
   "metadata": {
    "collapsed": false,
    "ExecuteTime": {
     "start_time": "2024-03-23T10:26:04.343302400Z"
    }
   },
   "id": "7bd44037654fd701"
  },
  {
   "cell_type": "markdown",
   "source": [
    "### Printing the first 5 vectors of the tfidf training data"
   ],
   "metadata": {
    "collapsed": false
   },
   "id": "277aa52c5fbb6e55"
  },
  {
   "cell_type": "code",
   "execution_count": null,
   "outputs": [],
   "source": [
    "\n",
    "print(tfidf_train.A[:5])"
   ],
   "metadata": {
    "collapsed": false,
    "ExecuteTime": {
     "start_time": "2024-03-23T10:26:04.345301400Z"
    }
   },
   "id": "cc4b51431203c2bb"
  },
  {
   "cell_type": "markdown",
   "source": [
    "### Creating the CountVectorizer DataFrame"
   ],
   "metadata": {
    "collapsed": false
   },
   "id": "325a49d2db965c27"
  },
  {
   "cell_type": "code",
   "execution_count": null,
   "outputs": [],
   "source": [
    "\n",
    "count_df = pd.DataFrame(count_train.A, columns=count_vectorizer.get_feature_names_out())"
   ],
   "metadata": {
    "collapsed": false,
    "ExecuteTime": {
     "start_time": "2024-03-23T10:26:04.347304Z"
    }
   },
   "id": "756a134af6ccae28"
  },
  {
   "cell_type": "markdown",
   "source": [
    "### Creating the TfidfVectorizer DataFrame"
   ],
   "metadata": {
    "collapsed": false
   },
   "id": "6de0fd41d97d991"
  },
  {
   "cell_type": "code",
   "execution_count": null,
   "outputs": [],
   "source": [
    "tfidf_df = pd.DataFrame(tfidf_train.A, columns=tfidf_vectorizer.get_feature_names_out())"
   ],
   "metadata": {
    "collapsed": false,
    "ExecuteTime": {
     "start_time": "2024-03-23T10:26:04.348305100Z"
    }
   },
   "id": "40d6df3597a96ed5"
  },
  {
   "cell_type": "code",
   "execution_count": null,
   "outputs": [],
   "source": [
    "# Print the head of count_df\n",
    "print(count_df.head())\n",
    "\n",
    "# Print the head of tfidf_df\n",
    "print(tfidf_df.head())\n",
    "\n",
    "# Calculate the difference in columns: difference\n",
    "difference = set(count_df.columns) - set(tfidf_df.columns)\n",
    "print(difference)\n",
    "\n",
    "# Check whether the DataFrames are equal\n",
    "print(count_df.equals(tfidf_df))\n"
   ],
   "metadata": {
    "collapsed": false,
    "ExecuteTime": {
     "start_time": "2024-03-23T10:26:04.349306100Z"
    }
   },
   "id": "aa066d555c99f983"
  },
  {
   "cell_type": "code",
   "execution_count": null,
   "outputs": [],
   "source": [],
   "metadata": {
    "collapsed": false,
    "ExecuteTime": {
     "start_time": "2024-03-23T10:26:04.350386400Z"
    }
   },
   "id": "50eebe45bbbcf5c1"
  },
  {
   "cell_type": "code",
   "execution_count": null,
   "outputs": [],
   "source": [
    "# Instantiate a Multinomial Naive Bayes classifier: nb_classifier\n",
    "nb_classifier = MultinomialNB()\n",
    "\n",
    "# Fit the classifier to the training data\n",
    "nb_classifier.fit(count_train, y_train)\n",
    "\n",
    "# Create the predicted tags: pred\n",
    "pred = nb_classifier.predict(count_test)\n",
    "\n",
    "# Calculate the accuracy score: score\n",
    "score = metrics.accuracy_score(y_test, pred)\n",
    "print(score)\n",
    "\n",
    "# Calculate the confusion matrix: cm\n",
    "cm = metrics.confusion_matrix(y_test, pred, labels=['FAKE', 'REAL'])\n",
    "print(cm)"
   ],
   "metadata": {
    "collapsed": false,
    "ExecuteTime": {
     "start_time": "2024-03-23T10:26:04.351424Z"
    }
   },
   "id": "18eb9b196fece6f5"
  },
  {
   "cell_type": "markdown",
   "source": [
    "## Training and testing model with TfidfVectorizer"
   ],
   "metadata": {
    "collapsed": false
   },
   "id": "9ed0441e9b57e20a"
  },
  {
   "cell_type": "code",
   "execution_count": null,
   "outputs": [],
   "source": [
    "# Fit the classifier to the training data\n",
    "nb_classifier.fit(tfidf_train, y_train)\n",
    "\n",
    "# Create the predicted tags: pred\n",
    "pred = nb_classifier.predict(tfidf_test)\n",
    "\n",
    "# Calculate the accuracy score: score\n",
    "score = metrics.accuracy_score(y_test, pred)\n",
    "print(score)\n",
    "# Calculate the confusion matrix: cm\n",
    "cm = metrics.confusion_matrix(y_test, pred, labels=['FAKE', 'REAL'])\n",
    "print(cm)"
   ],
   "metadata": {
    "collapsed": false,
    "ExecuteTime": {
     "start_time": "2024-03-23T10:26:04.352425700Z"
    }
   },
   "id": "da321926615bd5cf"
  },
  {
   "cell_type": "markdown",
   "source": [
    "## Checking the improvement to be made in the model "
   ],
   "metadata": {
    "collapsed": false
   },
   "id": "fc538fa0ccd88063"
  },
  {
   "cell_type": "code",
   "execution_count": null,
   "outputs": [],
   "source": [
    "# Create the list of alphas: alphas\n",
    "alphas = np.arange(0, 1, .1)\n",
    "\n",
    "# Define train_and_predict()\n",
    "def train_and_predict(alpha):\n",
    "    # Instantiate the classifier: nb_classifier\n",
    "    nb_classifier = MultinomialNB(alpha=alpha)\n",
    "    # Fit to the training data\n",
    "    nb_classifier.fit(tfidf_train, y_train)\n",
    "    # Predict the labels: pred\n",
    "    pred = nb_classifier.predict(tfidf_test)\n",
    "    # Compute accuracy: score\n",
    "    score = metrics.accuracy_score(y_test, pred)\n",
    "    return score\n",
    "\n",
    "# Iterate over the alphas and print the corresponding score\n",
    "for alpha in alphas:\n",
    "    print('Alpha: ', alpha)\n",
    "    print('Score: ', train_and_predict(alpha))\n",
    "    print()\n",
    "    "
   ],
   "metadata": {
    "collapsed": false,
    "ExecuteTime": {
     "start_time": "2024-03-23T10:26:04.353431100Z"
    }
   },
   "id": "df2e3bbc782ea7d6"
  },
  {
   "cell_type": "markdown",
   "source": [
    "## Model inspection "
   ],
   "metadata": {
    "collapsed": false
   },
   "id": "6cce4ecfd53f5968"
  },
  {
   "cell_type": "code",
   "execution_count": null,
   "outputs": [],
   "source": [
    "# Get the class labels: class_labels\n",
    "class_labels = nb_classifier.classes_\n",
    "\n",
    "# Extract the features: feature_names\n",
    "feature_names = tfidf_vectorizer.get_feature_names_out()\n",
    "\n",
    "# Zip the feature names together with the coefficient array and sort by weights: feat_with_weights\n",
    "feat_with_weights = sorted(zip(nb_classifier.feature_log_prob_[0], feature_names))\n",
    "\n",
    "# Print the first class label and the top 20 feat_with_weights entries\n",
    "print(class_labels[0], feat_with_weights[:20])\n",
    "print(\"\")\n",
    "# Print the second class label and the bottom 20 feat_with_weights entries\n",
    "print(class_labels[1], feat_with_weights[-20:])\n",
    "\n"
   ],
   "metadata": {
    "collapsed": false,
    "ExecuteTime": {
     "start_time": "2024-03-23T10:26:04.354424100Z"
    }
   },
   "id": "504a10354a1b7003"
  },
  {
   "cell_type": "code",
   "execution_count": null,
   "outputs": [],
   "source": [],
   "metadata": {
    "collapsed": false,
    "ExecuteTime": {
     "end_time": "2024-03-23T10:26:04.356425400Z",
     "start_time": "2024-03-23T10:26:04.355425Z"
    }
   },
   "id": "f19e2dbbc3aa97e7"
  }
 ],
 "metadata": {
  "kernelspec": {
   "display_name": "Python 3",
   "language": "python",
   "name": "python3"
  },
  "language_info": {
   "codemirror_mode": {
    "name": "ipython",
    "version": 2
   },
   "file_extension": ".py",
   "mimetype": "text/x-python",
   "name": "python",
   "nbconvert_exporter": "python",
   "pygments_lexer": "ipython2",
   "version": "2.7.6"
  }
 },
 "nbformat": 4,
 "nbformat_minor": 5
}
