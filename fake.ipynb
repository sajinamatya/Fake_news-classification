{
 "cells": [
  {
   "cell_type": "markdown",
   "source": [
    "## Required module and library "
   ],
   "metadata": {
    "collapsed": false
   },
   "id": "6ab45689d204c85c"
  },
  {
   "cell_type": "code",
   "execution_count": 2,
   "outputs": [],
   "source": [
    "import pandas as pd\n",
    "import numpy as np\n",
    "from nltk import word_tokenize,sent_tokenize,RegexpTokenizer\n",
    "from nltk.stem import WordNetLemmatizer\n",
    "from nltk.corpus import stopwords\n",
    "from wordcloud import WordCloud, STOPWORDS\n",
    "from sklearn.feature_extraction.text import CountVectorizer\n",
    "from sklearn.model_selection import train_test_split\n",
    "from sklearn.feature_extraction.text import TfidfVectorizer\n",
    "from sklearn.naive_bayes import MultinomialNB\n",
    "from sklearn import metrics\n",
    "import matplotlib.pyplot as plt\n",
    "import seaborn as sns\n",
    "from collections import Counter\n",
    "from nltk.util import ngrams"
   ],
   "metadata": {
    "collapsed": false,
    "ExecuteTime": {
     "end_time": "2024-03-26T16:11:53.011848Z",
     "start_time": "2024-03-26T16:11:51.921654100Z"
    }
   },
   "id": "initial_id"
  },
  {
   "cell_type": "markdown",
   "source": [
    "## Loading the dataset "
   ],
   "metadata": {
    "collapsed": false
   },
   "id": "a7ac7a503a3070ae"
  },
  {
   "cell_type": "code",
   "execution_count": 3,
   "outputs": [],
   "source": [
    "df = pd.read_csv(\"fake_or_real_news.csv\")\n"
   ],
   "metadata": {
    "collapsed": false,
    "ExecuteTime": {
     "end_time": "2024-03-26T16:11:53.386837600Z",
     "start_time": "2024-03-26T16:11:53.013850Z"
    }
   },
   "id": "97c35debb13147ba"
  },
  {
   "cell_type": "markdown",
   "source": [
    "## Description of each column "
   ],
   "metadata": {
    "collapsed": false
   },
   "id": "4a0b00278da6eb8e"
  },
  {
   "cell_type": "code",
   "execution_count": 4,
   "outputs": [
    {
     "name": "stdout",
     "output_type": "stream",
     "text": [
      "<class 'pandas.core.frame.DataFrame'>\n",
      "RangeIndex: 6335 entries, 0 to 6334\n",
      "Data columns (total 4 columns):\n",
      " #   Column      Non-Null Count  Dtype \n",
      "---  ------      --------------  ----- \n",
      " 0   Unnamed: 0  6335 non-null   int64 \n",
      " 1   title       6335 non-null   object\n",
      " 2   text        6335 non-null   object\n",
      " 3   label       6335 non-null   object\n",
      "dtypes: int64(1), object(3)\n",
      "memory usage: 198.1+ KB\n"
     ]
    }
   ],
   "source": [
    "df.info()"
   ],
   "metadata": {
    "collapsed": false,
    "ExecuteTime": {
     "end_time": "2024-03-26T16:11:53.406167400Z",
     "start_time": "2024-03-26T16:11:53.388838400Z"
    }
   },
   "id": "566d8d601d95ad5b"
  },
  {
   "cell_type": "code",
   "execution_count": 5,
   "outputs": [
    {
     "data": {
      "text/plain": "label\nREAL    3171\nFAKE    3164\nName: count, dtype: int64"
     },
     "execution_count": 5,
     "metadata": {},
     "output_type": "execute_result"
    }
   ],
   "source": [
    "df['label'].value_counts()"
   ],
   "metadata": {
    "collapsed": false,
    "ExecuteTime": {
     "end_time": "2024-03-26T16:11:53.426559500Z",
     "start_time": "2024-03-26T16:11:53.409170200Z"
    }
   },
   "id": "b4e67040d195e6b0"
  },
  {
   "cell_type": "markdown",
   "source": [
    "## Top 5 rows with longest title  "
   ],
   "metadata": {
    "collapsed": false
   },
   "id": "3250b52e1b93ca53"
  },
  {
   "cell_type": "code",
   "execution_count": 6,
   "outputs": [
    {
     "name": "stdout",
     "output_type": "stream",
     "text": [
      "      Unnamed: 0                                              title  \\\n",
      "4733        7910  Re: Why Are So Many People Choosing To Leave T...   \n",
      "3436        5765  Re: It Is Now Mathematically Impossible To Pay...   \n",
      "1359        5604  Benny Morris’s Untenable Denial of the Ethnic ...   \n",
      "536         9618   President Putin Asks US To Stop Provoking Russia   \n",
      "3685        8441  Re: America Has Become A Lawless Nation – Hill...   \n",
      "\n",
      "                                                   text label  length_of_title  \n",
      "4733  Why Are So Many People Choosing To Leave The U...  FAKE               75  \n",
      "3436  It Is Now Mathematically Impossible To Pay Off...  FAKE               73  \n",
      "1359  References The Debate \\r\\nIt started when Dani...  FAKE               68  \n",
      "536   Here is President Putin’s speech at Valdai Put...  FAKE               48  \n",
      "3685  America Has Become A Lawless Nation – Hillary ...  FAKE               86  \n"
     ]
    }
   ],
   "source": [
    "descending = df.sort_values(by='text', key=lambda x: x.str.len(), ascending=False)\n",
    "descending['length_of_title']= descending['title'].str.len()\n",
    "print(descending[:5])"
   ],
   "metadata": {
    "collapsed": false,
    "ExecuteTime": {
     "end_time": "2024-03-26T16:11:53.485615300Z",
     "start_time": "2024-03-26T16:11:53.418560700Z"
    }
   },
   "id": "71cc0bdfa8a6cb6"
  },
  {
   "cell_type": "markdown",
   "source": [
    "## Visualizing No. of real and fake news "
   ],
   "metadata": {
    "collapsed": false
   },
   "id": "e9761a1cce09e6b4"
  },
  {
   "cell_type": "code",
   "execution_count": 7,
   "outputs": [
    {
     "data": {
      "text/plain": "Text(0.5, 0, 'fake or real ')"
     },
     "execution_count": 7,
     "metadata": {},
     "output_type": "execute_result"
    },
    {
     "data": {
      "text/plain": "<Figure size 640x480 with 1 Axes>",
      "image/png": "[encoded data removed]"
     },
     "metadata": {},
     "output_type": "display_data"
    }
   ],
   "source": [
    "sns.countplot(x ='label',data = df)\n",
    "plt.xlabel(\"fake or real \")"
   ],
   "metadata": {
    "collapsed": false,
    "ExecuteTime": {
     "end_time": "2024-03-26T16:11:53.631429700Z",
     "start_time": "2024-03-26T16:11:53.436615200Z"
    }
   },
   "id": "b91984a095f6e0b8"
  },
  {
   "cell_type": "markdown",
   "source": [
    "## Top 10 most frequent words in the data set "
   ],
   "metadata": {
    "collapsed": false
   },
   "id": "c4c92af77dc7ec81"
  },
  {
   "cell_type": "code",
   "execution_count": 8,
   "outputs": [
    {
     "ename": "ValueError",
     "evalue": "setting an array element with a sequence. The requested array has an inhomogeneous shape after 1 dimensions. The detected shape was (6335,) + inhomogeneous part.",
     "output_type": "error",
     "traceback": [
      "\u001B[1;31m---------------------------------------------------------------------------\u001B[0m",
      "\u001B[1;31mValueError\u001B[0m                                Traceback (most recent call last)",
      "Cell \u001B[1;32mIn[8], line 4\u001B[0m\n\u001B[0;32m      2\u001B[0m tokenizer \u001B[38;5;241m=\u001B[39m RegexpTokenizer(\u001B[38;5;124mr\u001B[39m\u001B[38;5;124m'\u001B[39m\u001B[38;5;124m\\\u001B[39m\u001B[38;5;124mw+\u001B[39m\u001B[38;5;124m'\u001B[39m)\n\u001B[0;32m      3\u001B[0m text_list\u001B[38;5;241m=\u001B[39m[[tokenizer\u001B[38;5;241m.\u001B[39mtokenize(sentence) \u001B[38;5;28;01mfor\u001B[39;00m sentence \u001B[38;5;129;01min\u001B[39;00m sentences] \u001B[38;5;28;01mfor\u001B[39;00m sentences \u001B[38;5;129;01min\u001B[39;00m text]\n\u001B[1;32m----> 4\u001B[0m corpus  \u001B[38;5;241m=\u001B[39m np\u001B[38;5;241m.\u001B[39marray(text_list)\u001B[38;5;241m.\u001B[39mflatten()\n\u001B[0;32m      5\u001B[0m \u001B[38;5;28;01mdef\u001B[39;00m \u001B[38;5;21mcount_graph\u001B[39m(corpus):\n\u001B[0;32m      6\u001B[0m     counter \u001B[38;5;241m=\u001B[39m Counter(corpus)\n",
      "\u001B[1;31mValueError\u001B[0m: setting an array element with a sequence. The requested array has an inhomogeneous shape after 1 dimensions. The detected shape was (6335,) + inhomogeneous part."
     ]
    }
   ],
   "source": [
    "\n",
    "text = [sent_tokenize(text) for text in df['text']]\n",
    "tokenizer = RegexpTokenizer(r'\\w+')\n",
    "text_list=[[tokenizer.tokenize(sentence) for sentence in sentences] for sentences in text]\n",
    "corpus  = [word for sublist in text_list for sentence in sublist for word in sentence]\n",
    "def count_graph(corpus):\n",
    "    counter = Counter(corpus)\n",
    "    word,word_count  =  [],[]\n",
    "    most= counter.most_common()\n",
    "    for i,j in  most[:10]:\n",
    "        word.append(i)\n",
    "        word_count.append(j)\n",
    "\n",
    "    sns.barplot(x=word,y =word_count)\n",
    "    plt.title(\"top 10 most common word  in the dataset\")\n",
    "    plt.xlabel(\"words\")\n",
    "    plt.ylabel(\"count\")\n",
    "count_graph(corpus)"
   ],
   "metadata": {
    "collapsed": false,
    "ExecuteTime": {
     "end_time": "2024-03-26T16:12:00.744892Z",
     "start_time": "2024-03-26T16:11:53.627429900Z"
    }
   },
   "id": "96ae7c7d1ecea4e5"
  },
  {
   "cell_type": "markdown",
   "source": [
    "## Top 10 most frequent words in the data set after removing stop word"
   ],
   "metadata": {
    "collapsed": false
   },
   "id": "dc75aaa5f3a718b8"
  },
  {
   "cell_type": "code",
   "execution_count": null,
   "outputs": [],
   "source": [
    "stop_words = stopwords.words('english')\n",
    "text_list = [[word for word in tokenizer.tokenize(sentence) if word.lower() not in stop_words] for sentences in text for sentence in sentences]\n",
    "\n",
    "# Flatten the list of lists to get a single list of words\n",
    "corpus1 = [word for sentence in text_list for word in sentence]\n",
    "count_graph(corpus1)"
   ],
   "metadata": {
    "collapsed": false,
    "ExecuteTime": {
     "end_time": "2024-03-26T16:12:00.758891200Z",
     "start_time": "2024-03-26T16:12:00.748892400Z"
    }
   },
   "id": "d41a752469305d9"
  },
  {
   "cell_type": "markdown",
   "source": [
    "## Word cloud before normalization"
   ],
   "metadata": {
    "collapsed": false
   },
   "id": "d3137a419bc3d52"
  },
  {
   "cell_type": "code",
   "execution_count": null,
   "outputs": [],
   "source": [
    "\n",
    "string_text = ' '.join(corpus)\n",
    "stopwords = set(STOPWORDS)\n",
    "# Create and generate a word cloud image:\n",
    "wordcloud = WordCloud(stopwords = stopwords).generate(string_text)\n",
    "\n",
    "# Display the generated image:\n",
    "plt.imshow(wordcloud, interpolation='bilinear' )\n",
    "plt.title(\"before text normalization\")\n",
    "plt.show()"
   ],
   "metadata": {
    "collapsed": false,
    "ExecuteTime": {
     "start_time": "2024-03-26T16:12:00.750892100Z"
    }
   },
   "id": "74c1c29bd742406d"
  },
  {
   "cell_type": "markdown",
   "source": [
    "## Word cloud after text normalization lemitization"
   ],
   "metadata": {
    "collapsed": false
   },
   "id": "9b22f1820d63fe86"
  },
  {
   "cell_type": "code",
   "execution_count": null,
   "outputs": [],
   "source": [
    "\n",
    "lemmatizer = WordNetLemmatizer()\n",
    "lemmatized_sentences = [[lemmatizer.lemmatize(word) for word in sentence] for sentence in text_list]\n",
    "# Flatten list\n",
    "corpus_lem = [word for sublist in lemmatized_sentences for word in sublist] \n",
    "string_lem = ' '.join(corpus_lem)\n",
    "wordcloud = WordCloud(stopwords = stopwords).generate(string_lem)\n",
    "\n",
    "# Display the generated image:\n",
    "plt.imshow(wordcloud, interpolation='bilinear' )\n",
    "plt.title(\"After text normalization\")\n",
    "plt.show()"
   ],
   "metadata": {
    "collapsed": false,
    "ExecuteTime": {
     "start_time": "2024-03-26T16:12:00.753891200Z"
    }
   },
   "id": "f2620085e36e982e"
  },
  {
   "cell_type": "markdown",
   "source": [
    "### bigram "
   ],
   "metadata": {
    "collapsed": false
   },
   "id": "57133f3efaa28326"
  },
  {
   "cell_type": "code",
   "execution_count": null,
   "outputs": [],
   "source": [
    "def get_ngram(corpus, n=None):\n",
    "    vec = CountVectorizer(ngram_range=(n, n)).fit(corpus)\n",
    "    bag_of_words = vec.transform(corpus)\n",
    "    sum_words = bag_of_words.sum(axis=0)\n",
    "    words_freq = [(word, sum_words[0, idx])\n",
    "                  for word, idx in vec.vocabulary_.items()]\n",
    "    words_freq =sorted(words_freq, key = lambda x: x[1], reverse=True)\n",
    "    return words_freq[:10]"
   ],
   "metadata": {
    "collapsed": false,
    "ExecuteTime": {
     "start_time": "2024-03-26T16:12:00.756897700Z"
    }
   },
   "id": "5c32ec042d14caab"
  },
  {
   "cell_type": "code",
   "execution_count": null,
   "outputs": [],
   "source": [
    "bigrams = get_ngram(df['text'],2)[:10]\n",
    "x,y=map(list,zip(*bigrams))\n",
    "sns.barplot(x=y,y=x)"
   ],
   "metadata": {
    "collapsed": false,
    "ExecuteTime": {
     "start_time": "2024-03-26T16:12:00.758891200Z"
    }
   },
   "id": "d1297a333991ea94"
  },
  {
   "cell_type": "markdown",
   "source": [
    "## Trigram"
   ],
   "metadata": {
    "collapsed": false
   },
   "id": "a0cece7b95ce134a"
  },
  {
   "cell_type": "code",
   "execution_count": null,
   "outputs": [],
   "source": [
    "trigrams = get_ngram(df['text'],3)[:10]\n",
    "x,y=map(list,zip(*trigrams))\n",
    "sns.barplot(x=y,y=x)"
   ],
   "metadata": {
    "collapsed": false,
    "ExecuteTime": {
     "start_time": "2024-03-26T16:12:00.760894300Z"
    }
   },
   "id": "c141dee55ca1ffda"
  },
  {
   "cell_type": "markdown",
   "source": [
    "## pos tagging"
   ],
   "metadata": {
    "collapsed": false
   },
   "id": "71c3cc04a9a7d703"
  },
  {
   "cell_type": "markdown",
   "source": [
    "## CountVectorizer"
   ],
   "metadata": {
    "collapsed": false
   },
   "id": "f8aa72c1f25e4cc3"
  },
  {
   "cell_type": "markdown",
   "source": [
    "### Creating training and test sets"
   ],
   "metadata": {
    "collapsed": false
   },
   "id": "b845f5f3d32ef7a7"
  },
  {
   "cell_type": "code",
   "execution_count": null,
   "outputs": [],
   "source": [
    "y = df.label\n",
    "X_train, X_test, y_train, y_test = train_test_split(df['text'], y, test_size=0.33, random_state=53)"
   ],
   "metadata": {
    "collapsed": false,
    "ExecuteTime": {
     "start_time": "2024-03-26T16:12:00.761891900Z"
    }
   },
   "id": "36d26d8e74f91d"
  },
  {
   "cell_type": "markdown",
   "source": [
    "### Initializing a CountVectorizer object"
   ],
   "metadata": {
    "collapsed": false
   },
   "id": "1f080bc8262f8eff"
  },
  {
   "cell_type": "code",
   "execution_count": null,
   "outputs": [],
   "source": [
    "count_vectorizer = CountVectorizer(stop_words='english')"
   ],
   "metadata": {
    "collapsed": false,
    "ExecuteTime": {
     "end_time": "2024-03-26T16:12:00.766891700Z",
     "start_time": "2024-03-26T16:12:00.764891400Z"
    }
   },
   "id": "7b124550bdb47773"
  },
  {
   "cell_type": "markdown",
   "source": [
    "### Transforming the training data using only the 'text' column values: count_train "
   ],
   "metadata": {
    "collapsed": false
   },
   "id": "360ed65d6b17a952"
  },
  {
   "cell_type": "code",
   "execution_count": null,
   "outputs": [],
   "source": [
    "count_train = count_vectorizer.fit_transform(X_train)\n",
    "count_test = count_vectorizer.transform(X_test)\n"
   ],
   "metadata": {
    "collapsed": false,
    "ExecuteTime": {
     "start_time": "2024-03-26T16:12:00.765891800Z"
    }
   },
   "id": "54d9db3020b6fd17"
  },
  {
   "cell_type": "markdown",
   "source": [
    "###  Printing the first 10 features "
   ],
   "metadata": {
    "collapsed": false
   },
   "id": "7cb3101da1e3cb44"
  },
  {
   "cell_type": "code",
   "execution_count": null,
   "outputs": [],
   "source": [
    "print(count_vectorizer.get_feature_names_out()[:10])"
   ],
   "metadata": {
    "collapsed": false,
    "ExecuteTime": {
     "start_time": "2024-03-26T16:12:00.767891600Z"
    }
   },
   "id": "24afbd8222282b69"
  },
  {
   "cell_type": "markdown",
   "source": [
    "## TfidfVectorizer"
   ],
   "metadata": {
    "collapsed": false
   },
   "id": "dc3f71c064fae550"
  },
  {
   "cell_type": "markdown",
   "source": [
    "### Initializing a TfidfVectorizer object: tfidf_vectorizer"
   ],
   "metadata": {
    "collapsed": false
   },
   "id": "cc936e8d2a7bcfea"
  },
  {
   "cell_type": "code",
   "execution_count": null,
   "outputs": [],
   "source": [
    "\n",
    "tfidf_vectorizer = TfidfVectorizer(stop_words='english', max_df=0.7)\n"
   ],
   "metadata": {
    "collapsed": false,
    "ExecuteTime": {
     "end_time": "2024-03-26T16:12:00.783890800Z",
     "start_time": "2024-03-26T16:12:00.776900300Z"
    }
   },
   "id": "e9c648a1e975e1d1"
  },
  {
   "cell_type": "markdown",
   "source": [
    "### Transforming the training data: tfidf_train "
   ],
   "metadata": {
    "collapsed": false
   },
   "id": "5965ff32ff109d0"
  },
  {
   "cell_type": "code",
   "execution_count": null,
   "outputs": [],
   "source": [
    "\n",
    "tfidf_train = tfidf_vectorizer.fit_transform(X_train)\n",
    "print(tfidf_train)"
   ],
   "metadata": {
    "collapsed": false,
    "ExecuteTime": {
     "start_time": "2024-03-26T16:12:00.778891900Z"
    }
   },
   "id": "acce83bf481766e3"
  },
  {
   "cell_type": "markdown",
   "source": [
    "### Transform the test data: tfidf_test "
   ],
   "metadata": {
    "collapsed": false
   },
   "id": "dbf9631cfb9eb942"
  },
  {
   "cell_type": "code",
   "execution_count": null,
   "outputs": [],
   "source": [
    "\n",
    "tfidf_test = tfidf_vectorizer.transform(X_test)"
   ],
   "metadata": {
    "collapsed": false,
    "ExecuteTime": {
     "start_time": "2024-03-26T16:12:00.781892300Z"
    }
   },
   "id": "88329c581550f671"
  },
  {
   "cell_type": "markdown",
   "source": [
    "### Printing the first 10 features"
   ],
   "metadata": {
    "collapsed": false
   },
   "id": "df5f7c4609b9eb2d"
  },
  {
   "cell_type": "code",
   "execution_count": null,
   "outputs": [],
   "source": [
    "\n",
    "print(tfidf_vectorizer.get_feature_names_out()[:10])"
   ],
   "metadata": {
    "collapsed": false,
    "ExecuteTime": {
     "start_time": "2024-03-26T16:12:00.783890800Z"
    }
   },
   "id": "7bd44037654fd701"
  },
  {
   "cell_type": "markdown",
   "source": [
    "### Printing the first 5 vectors of the tfidf training data"
   ],
   "metadata": {
    "collapsed": false
   },
   "id": "277aa52c5fbb6e55"
  },
  {
   "cell_type": "code",
   "execution_count": null,
   "outputs": [],
   "source": [
    "\n",
    "print(tfidf_train.A[:5])"
   ],
   "metadata": {
    "collapsed": false,
    "ExecuteTime": {
     "end_time": "2024-03-26T16:12:00.908396700Z",
     "start_time": "2024-03-26T16:12:00.786891Z"
    }
   },
   "id": "cc4b51431203c2bb"
  },
  {
   "cell_type": "markdown",
   "source": [
    "### Creating the CountVectorizer DataFrame"
   ],
   "metadata": {
    "collapsed": false
   },
   "id": "325a49d2db965c27"
  },
  {
   "cell_type": "code",
   "execution_count": null,
   "outputs": [],
   "source": [
    "\n",
    "count_df = pd.DataFrame(count_train.A, columns=count_vectorizer.get_feature_names_out())"
   ],
   "metadata": {
    "collapsed": false,
    "ExecuteTime": {
     "start_time": "2024-03-26T16:12:00.789890600Z"
    }
   },
   "id": "756a134af6ccae28"
  },
  {
   "cell_type": "markdown",
   "source": [
    "### Creating the TfidfVectorizer DataFrame"
   ],
   "metadata": {
    "collapsed": false
   },
   "id": "6de0fd41d97d991"
  },
  {
   "cell_type": "code",
   "execution_count": null,
   "outputs": [],
   "source": [
    "tfidf_df = pd.DataFrame(tfidf_train.A, columns=tfidf_vectorizer.get_feature_names_out())"
   ],
   "metadata": {
    "collapsed": false,
    "ExecuteTime": {
     "start_time": "2024-03-26T16:12:00.791892700Z"
    }
   },
   "id": "40d6df3597a96ed5"
  },
  {
   "cell_type": "code",
   "execution_count": null,
   "outputs": [],
   "source": [
    "# Print the head of count_df\n",
    "print(count_df.head())\n",
    "\n",
    "# Print the head of tfidf_df\n",
    "print(tfidf_df.head())\n",
    "\n",
    "# Calculate the difference in columns: difference\n",
    "difference = set(count_df.columns) - set(tfidf_df.columns)\n",
    "print(difference)\n",
    "\n",
    "# Check whether the DataFrames are equal\n",
    "print(count_df.equals(tfidf_df))\n"
   ],
   "metadata": {
    "collapsed": false,
    "ExecuteTime": {
     "start_time": "2024-03-26T16:12:00.795892100Z"
    }
   },
   "id": "aa066d555c99f983"
  },
  {
   "cell_type": "markdown",
   "source": [
    "## Instantiate a Multinomial Naive Bayes classifier"
   ],
   "metadata": {
    "collapsed": false
   },
   "id": "5e4a1035894c940b"
  },
  {
   "cell_type": "code",
   "execution_count": null,
   "outputs": [],
   "source": [
    "nb_classifier = MultinomialNB()\n",
    "# Fit the classifier to the training data\n",
    "nb_classifier.fit(count_train, y_train)\n",
    "# Create the predicted tags: pred\n",
    "pred = nb_classifier.predict(count_test)\n",
    "# Calculate the accuracy score: score\n",
    "score = metrics.accuracy_score(y_test, pred)\n",
    "print(score)\n"
   ],
   "metadata": {
    "collapsed": false,
    "ExecuteTime": {
     "start_time": "2024-03-26T16:12:00.798892500Z"
    }
   },
   "id": "18eb9b196fece6f5"
  },
  {
   "cell_type": "markdown",
   "source": [
    "## Confusion matrix for count vectorizer "
   ],
   "metadata": {
    "collapsed": false
   },
   "id": "ddb485f4ebb7c1cd"
  },
  {
   "cell_type": "code",
   "execution_count": null,
   "outputs": [],
   "source": [
    "cm_count_nav = metrics.confusion_matrix(y_test, pred, labels=['FAKE', 'REAL'])\n",
    "print(cm_count_nav)\n",
    "sns.heatmap(cm_count_nav, annot=True,\n",
    "            fmt='', cmap='rocket')\n",
    "\n",
    "plt.xlabel('Predicted ')\n",
    "plt.ylabel('Real')"
   ],
   "metadata": {
    "collapsed": false,
    "ExecuteTime": {
     "start_time": "2024-03-26T16:12:00.801392800Z"
    }
   },
   "id": "836036c25594cddf"
  },
  {
   "cell_type": "markdown",
   "source": [
    "## Training and testing model with TfidfVectorizer"
   ],
   "metadata": {
    "collapsed": false
   },
   "id": "9ed0441e9b57e20a"
  },
  {
   "cell_type": "code",
   "execution_count": null,
   "outputs": [],
   "source": [
    "# Fit the classifier to the training data\n",
    "nb_classifier.fit(tfidf_train, y_train)\n",
    "\n",
    "# Create the predicted tags: pred\n",
    "pred = nb_classifier.predict(tfidf_test)\n",
    "\n",
    "# Calculate the accuracy score: score\n",
    "score = metrics.accuracy_score(y_test, pred)\n",
    "print(score)\n",
    "# Calculate the confusion matrix: cm\n",
    "cm = metrics.confusion_matrix(y_test, pred, labels=['FAKE', 'REAL'])\n",
    "print(cm)"
   ],
   "metadata": {
    "collapsed": false,
    "ExecuteTime": {
     "start_time": "2024-03-26T16:12:00.803400Z"
    }
   },
   "id": "da321926615bd5cf"
  },
  {
   "cell_type": "markdown",
   "source": [
    "## Confusion matrix for tfid"
   ],
   "metadata": {
    "collapsed": false
   },
   "id": "9500e7ba86bd9a6"
  },
  {
   "cell_type": "code",
   "execution_count": null,
   "outputs": [],
   "source": [
    "sns.heatmap(cm, annot=True,\n",
    "            fmt='', cmap='rocket')\n",
    "\n",
    "plt.xlabel('Predicted ')\n",
    "plt.ylabel('Real')"
   ],
   "metadata": {
    "collapsed": false,
    "ExecuteTime": {
     "start_time": "2024-03-26T16:12:00.805399800Z"
    }
   },
   "id": "c35c7d3d5341386d"
  },
  {
   "cell_type": "markdown",
   "source": [
    "## Checking the improvement to be made in the model "
   ],
   "metadata": {
    "collapsed": false
   },
   "id": "fc538fa0ccd88063"
  },
  {
   "cell_type": "code",
   "execution_count": null,
   "outputs": [],
   "source": [
    "# Create the list of alphas: alphas\n",
    "alphas = np.arange(0, 1, .1)\n",
    "\n",
    "# Define train_and_predict()\n",
    "def train_and_predict(alpha):\n",
    "    # Instantiate the classifier: nb_classifier\n",
    "    nb_classifier = MultinomialNB(alpha=alpha)\n",
    "    # Fit to the training data\n",
    "    nb_classifier.fit(tfidf_train, y_train)\n",
    "    # Predict the labels: pred\n",
    "    pred = nb_classifier.predict(tfidf_test)\n",
    "    # Compute accuracy: score\n",
    "    score = metrics.accuracy_score(y_test, pred)\n",
    "    return score\n",
    "\n",
    "# Iterate over the alphas and print the corresponding score\n",
    "for alpha in alphas:\n",
    "    print('Alpha: ', alpha)\n",
    "    print('Score: ', train_and_predict(alpha))\n",
    "    print()\n",
    "    "
   ],
   "metadata": {
    "collapsed": false,
    "ExecuteTime": {
     "start_time": "2024-03-26T16:12:00.807400600Z"
    }
   },
   "id": "df2e3bbc782ea7d6"
  },
  {
   "cell_type": "markdown",
   "source": [
    "## Model inspection "
   ],
   "metadata": {
    "collapsed": false
   },
   "id": "6cce4ecfd53f5968"
  },
  {
   "cell_type": "code",
   "execution_count": null,
   "outputs": [],
   "source": [
    "# Get the class labels: class_labels\n",
    "class_labels = nb_classifier.classes_\n",
    "\n",
    "# Extract the features: feature_names\n",
    "feature_names = tfidf_vectorizer.get_feature_names_out()\n",
    "\n",
    "# Zip the feature names together with the coefficient array and sort by weights: feat_with_weights\n",
    "feat_with_weights = sorted(zip(nb_classifier.feature_log_prob_[0], feature_names))\n",
    "\n",
    "# Print the first class label and the top 20 feat_with_weights entries\n",
    "print(class_labels[0], feat_with_weights[:40])\n",
    "print(\"\")\n",
    "# Print the second class label and the bottom 20 feat_with_weights entries\n",
    "print(class_labels[1], feat_with_weights[-40:])\n",
    "\n"
   ],
   "metadata": {
    "collapsed": false,
    "ExecuteTime": {
     "start_time": "2024-03-26T16:12:00.809401300Z"
    }
   },
   "id": "504a10354a1b7003"
  },
  {
   "cell_type": "code",
   "execution_count": null,
   "outputs": [],
   "source": [],
   "metadata": {
    "collapsed": false,
    "ExecuteTime": {
     "start_time": "2024-03-26T16:12:00.810400400Z"
    }
   },
   "id": "f19e2dbbc3aa97e7"
  }
 ],
 "metadata": {
  "kernelspec": {
   "display_name": "Python 3",
   "language": "python",
   "name": "python3"
  },
  "language_info": {
   "codemirror_mode": {
    "name": "ipython",
    "version": 2
   },
   "file_extension": ".py",
   "mimetype": "text/x-python",
   "name": "python",
   "nbconvert_exporter": "python",
   "pygments_lexer": "ipython2",
   "version": "2.7.6"
  }
 },
 "nbformat": 4,
 "nbformat_minor": 5
}
